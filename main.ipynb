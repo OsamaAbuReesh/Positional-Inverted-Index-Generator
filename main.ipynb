{
 "cells": [
  {
   "cell_type": "code",
   "execution_count": 137,
   "metadata": {},
   "outputs": [],
   "source": [
    "# Importing libraries\n",
    "import os\n",
    "import json\n",
    "import csv\n",
    "from collections import defaultdict\n",
    "import nltk\n",
    "from nltk.corpus import stopwords\n",
    "\n",
    "folder_path = './docs/'\n",
    "csv_filename = 'docId_filePath_mapping.csv'\n",
    "json_filename = 'pos_inverted_index.json'\n",
    "stop_words = set(stopwords.words('english'))\n"
   ]
  },
  {
   "cell_type": "code",
   "execution_count": 138,
   "metadata": {},
   "outputs": [],
   "source": [
    "def read_documents(folder_path):\n",
    "    documents = {}\n",
    "    document_id_to_path = {}\n",
    "    document_id = 1\n",
    "    \n",
    "    files = [f for f in os.listdir(folder_path) if f.endswith(\".txt\")]\n",
    "    \n",
    "    if not files:\n",
    "        print(\"No documents found in the specified directory.\")\n",
    "        return documents, document_id_to_path  \n",
    "\n",
    "    for filename in files:\n",
    "        with open(os.path.join(folder_path, filename), 'r') as file:\n",
    "            content = file.read()\n",
    "            documents[document_id] = content\n",
    "            document_id_to_path[document_id] = os.path.join(folder_path, filename)\n",
    "            document_id += 1\n",
    "    \n",
    "    return documents, document_id_to_path"
   ]
  },
  {
   "cell_type": "code",
   "execution_count": 139,
   "metadata": {},
   "outputs": [],
   "source": [
    "def create_positional_inverted_index(docs):\n",
    "    index = defaultdict(lambda: [0, ])\n",
    "    for doc_id, content in docs.items():\n",
    "        words = content.split()\n",
    "        for position, word in enumerate(words):\n",
    "            if word.lower() not in stop_words and len(word) > 3:\n",
    "                if doc_id not in index[word][1:]:\n",
    "                    index[word][0] += 1\n",
    "                    index[word].append({doc_id: [position]})\n",
    "                else:\n",
    "                    index[word][-1][doc_id].append(position)\n",
    "    return index\n"
   ]
  },
  {
   "cell_type": "code",
   "execution_count": 140,
   "metadata": {},
   "outputs": [],
   "source": [
    "def save_index_to_json(index, filename):\n",
    "    with open(filename, 'w') as f:\n",
    "        json.dump(index, f, indent=4)\n",
    "        \n",
    "def save_doc_id_filepath_mapping(mapping, filename):\n",
    "    with open(filename, 'w', newline='') as f:\n",
    "        writer = csv.writer(f)\n",
    "        for doc_id, path in mapping.items():\n",
    "            writer.writerow([doc_id, path])"
   ]
  },
  {
   "cell_type": "code",
   "execution_count": 141,
   "metadata": {},
   "outputs": [],
   "source": [
    "def load_index_from_json(filename):\n",
    "    with open(filename, 'r') as f:\n",
    "        index = json.load(f)\n",
    "    return index\n",
    "\n",
    "def search_phrase_in_index(phrase, index):\n",
    "    words = phrase.split()\n",
    "    \n",
    "    if words[0] not in index:\n",
    "        return set() \n",
    "\n",
    "    docs_containing_phrase = set([list(doc_dict.keys())[0] for doc_dict in index[words[0]][1:]])\n",
    "\n",
    "    for word in words[1:]:\n",
    "        if word not in index:\n",
    "            return set()  \n",
    "        \n",
    "        docs_containing_word = set([list(doc_dict.keys())[0] for doc_dict in index[word][1:]])\n",
    "        docs_containing_phrase.intersection_update(docs_containing_word)\n",
    "        \n",
    "    return docs_containing_phrase\n",
    "\n"
   ]
  },
  {
   "cell_type": "code",
   "execution_count": 142,
   "metadata": {},
   "outputs": [],
   "source": [
    "def insert_new_document(folder_path, content):\n",
    "    \n",
    "    existing_files = os.listdir(folder_path)\n",
    "    new_file_id = 1\n",
    "    new_filename = f\"doc_{new_file_id}.txt\"\n",
    "    while new_filename in existing_files:\n",
    "        new_file_id += 1\n",
    "        new_filename = f\"doc_{new_file_id}.txt\"\n",
    "    \n",
    "    with open(os.path.join(folder_path, new_filename), 'w') as file:\n",
    "        file.write(content)\n",
    "    \n",
    "    return new_filename"
   ]
  },
  {
   "cell_type": "code",
   "execution_count": 143,
   "metadata": {},
   "outputs": [],
   "source": [
    "def delete_document(folder_path, doc_id, document_id_to_path, index):\n",
    "\n",
    "    if doc_id in document_id_to_path:\n",
    "        os.remove(document_id_to_path[doc_id])\n",
    "\n",
    "        words_to_delete = [] \n",
    "        \n",
    "        for word, postings in index.items():\n",
    "            postings = [posting for posting in postings[1:] if list(posting.keys())[0] != doc_id]\n",
    "            if postings:\n",
    "                index[word] = [index[word][0]] + postings\n",
    "            else:\n",
    "                words_to_delete.append(word)\n",
    "        \n",
    "        for word in words_to_delete:\n",
    "            del index[word]\n",
    "\n",
    "        del document_id_to_path[doc_id]\n",
    "\n",
    "        print(f\"Document with ID {doc_id} has been successfully deleted.\")\n",
    "    else:\n",
    "        print(f\"Document with ID {doc_id} not found.\")\n"
   ]
  },
  {
   "cell_type": "code",
   "execution_count": 146,
   "metadata": {},
   "outputs": [
    {
     "name": "stdout",
     "output_type": "stream",
     "text": [
      "\n",
      "What would you like to do?\n",
      "1. Search for a phrase\n",
      "2. Insert a new document\n",
      "3. Delete a document\n",
      "4. Exit\n"
     ]
    },
    {
     "name": "stdout",
     "output_type": "stream",
     "text": [
      "Document with ID 6 has been successfully deleted.\n"
     ]
    }
   ],
   "source": [
    "def main():\n",
    "\n",
    "    documents, document_id_to_path = read_documents(folder_path)\n",
    "    \n",
    "    if not documents:\n",
    "        print(\"Exiting due to lack of documents.\")\n",
    "        return \n",
    "    index = create_positional_inverted_index(documents)\n",
    "    \n",
    "    save_index_to_json(index, json_filename)\n",
    "    \n",
    "    save_doc_id_filepath_mapping(document_id_to_path, csv_filename)\n",
    "    \n",
    "    loaded_index = load_index_from_json(json_filename)\n",
    "    \n",
    "    print(\"\\nWhat would you like to do?\")\n",
    "    print(\"1. Search for a phrase\")\n",
    "    print(\"2. Insert a new document\")\n",
    "    print(\"3. Delete a document\")\n",
    "    print(\"4. Exit\")\n",
    "    \n",
    "    choice = input(\"\\nEnter your choice (1, 2, 3, or 4): \")\n",
    "\n",
    "    if choice == \"1\":\n",
    "        phrase = input(\"\\nEnter a phrase query: \")\n",
    "        doc_ids = search_phrase_in_index(phrase, loaded_index)\n",
    "        if doc_ids:\n",
    "            print(\"\\nThe phrase is found in the following documents:\")\n",
    "            for doc_id in doc_ids:\n",
    "                print(document_id_to_path[int(doc_id)])\n",
    "        else:\n",
    "            print(\"\\nNo documents found containing the phrase.\")\n",
    "            \n",
    "    elif choice == \"2\":\n",
    "\n",
    "        new_content = input(\"\\nEnter the content of the new document: \")\n",
    "        \n",
    "        new_filename = insert_new_document(folder_path, new_content)\n",
    "        \n",
    "        new_doc_id = max(document_id_to_path.keys()) + 1\n",
    "        document_id_to_path[new_doc_id] = os.path.join(folder_path, new_filename)\n",
    "        \n",
    "        new_index = create_positional_inverted_index({new_doc_id: new_content})\n",
    "        index.update(new_index) \n",
    "        \n",
    "        \n",
    "        save_index_to_json(index, json_filename)\n",
    "        save_doc_id_filepath_mapping(document_id_to_path, csv_filename)\n",
    "        \n",
    "        print(f\"\\nDocument inserted successfully with ID {new_doc_id} and filename {new_filename}.\")\n",
    "\n",
    "    elif choice == \"3\":\n",
    "        doc_id_to_delete = int(input(\"\\nEnter the document ID to be deleted: \"))\n",
    "        delete_document(folder_path, doc_id_to_delete, document_id_to_path, index)\n",
    "        \n",
    "        save_index_to_json(index, json_filename)\n",
    "        save_doc_id_filepath_mapping(document_id_to_path, csv_filename)\n",
    "\n",
    "    elif choice == \"4\":\n",
    "        print(\"Exiting the program.\")\n",
    "    else:\n",
    "        print(\"Invalid choice. Exiting the program.\")\n",
    "\n",
    "main()"
   ]
  },
  {
   "cell_type": "code",
   "execution_count": null,
   "metadata": {},
   "outputs": [],
   "source": []
  }
 ],
 "metadata": {
  "kernelspec": {
   "display_name": "Python 3",
   "language": "python",
   "name": "python3"
  },
  "language_info": {
   "codemirror_mode": {
    "name": "ipython",
    "version": 3
   },
   "file_extension": ".py",
   "mimetype": "text/x-python",
   "name": "python",
   "nbconvert_exporter": "python",
   "pygments_lexer": "ipython3",
   "version": "3.11.5"
  }
 },
 "nbformat": 4,
 "nbformat_minor": 2
}
